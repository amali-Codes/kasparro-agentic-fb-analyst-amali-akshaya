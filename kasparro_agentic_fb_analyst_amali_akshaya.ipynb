{
 "cells": [
  {
   "cell_type": "markdown",
   "id": "f5f399ab",
   "metadata": {},
   "source": [
    "# Kasparro — Facebook Ads Analysis (Notebook)\n",
    "\n",
    "**Author:** Amali Akshaya\n",
    "\n",
    "This notebook performs a simple, non-AI analysis of the provided synthetic Facebook Ads dataset and produces three required deliverables:\n",
    "\n",
    "- `insights.json`\n",
    "- `creatives.json`\n",
    "- `report.md`\n",
    "\n",
    "It is structured to resemble the agentic pipeline (Planner → Data → Insights → Eval → Creatives) but implemented purely with pandas and simple logic."
   ]
  },
  {
   "cell_type": "markdown",
   "id": "a247a6b1",
   "metadata": {},
   "source": [
    "## 0) Requirements\n",
    "\n",
    "Run this cell to install dependencies if needed (Pandas & Matplotlib)."
   ]
  },
  {
   "cell_type": "code",
   "execution_count": null,
   "id": "9c84784d",
   "metadata": {},
   "outputs": [],
   "source": [
    "!pip install --quiet pandas matplotlib nbformat"
   ]
  },
  {
   "cell_type": "markdown",
   "id": "9e2bcd2f",
   "metadata": {},
   "source": [
    "## 1) Planner\n",
    "\n",
    "We will execute these steps:\n",
    "\n",
    "1. Load and inspect data.\n",
    "2. Run quick EDA (ROAS/CTR trends).\n",
    "3. Identify low-CTR campaigns and ROAS drops.\n",
    "4. Produce `insights.json`, `creatives.json`, and `report.md`.\n"
   ]
  },
  {
   "cell_type": "code",
   "execution_count": null,
   "id": "c49823e3",
   "metadata": {},
   "outputs": [],
   "source": [
    "plan = [\n",
    "    'Load data',\n",
    "    'Quick EDA (head, missing, stats)',\n",
    "    'Plot ROAS and CTR trends',\n",
    "    'Identify low-CTR campaigns',\n",
    "    'Generate insights and validate',\n",
    "    'Create simple creatives',\n",
    "    'Save outputs to /mnt/data/reports/'\n",
    "]\n",
    "print('Plan steps:')\n",
    "for i, step in enumerate(plan,1):\n",
    "    print(i, step)"
   ]
  },
  {
   "cell_type": "markdown",
   "id": "ddbfe710",
   "metadata": {},
   "source": [
    "## 2) Load data"
   ]
  },
  {
   "cell_type": "code",
   "execution_count": null,
   "id": "49bd4223",
   "metadata": {},
   "outputs": [],
   "source": [
    "\n",
    "import pandas as pd, os\n",
    "DATA_PATH = \"/mnt/data/synthetic_fb_ads_undergarments.csv\"\n",
    "assert os.path.exists(DATA_PATH), f\"Data file not found at {DATA_PATH}\"\n",
    "df = pd.read_csv(DATA_PATH)\n",
    "# normalize column names\n",
    "df.columns = [c.strip().lower() for c in df.columns]\n",
    "# parse date if exists\n",
    "if 'date' in df.columns:\n",
    "    df['date'] = pd.to_datetime(df['date'], errors='coerce')\n",
    "df.shape\n"
   ]
  },
  {
   "cell_type": "markdown",
   "id": "7b75574f",
   "metadata": {},
   "source": [
    "## 3) Quick EDA"
   ]
  },
  {
   "cell_type": "code",
   "execution_count": null,
   "id": "a907a76b",
   "metadata": {},
   "outputs": [],
   "source": [
    "\n",
    "# Quick EDA\n",
    "display(df.head(8))\n",
    "print('\\nData shape:', df.shape)\n",
    "print('\\nColumns:', df.columns.tolist())\n",
    "print('\\nMissing values (per column):')\n",
    "print(df.isna().sum())\n",
    "# Basic numeric summary for key metrics if present\n",
    "metrics = [c for c in ['spend','impressions','clicks','ctr','purchases','revenue','roas'] if c in df.columns]\n",
    "if metrics:\n",
    "    display(df[metrics].describe().T)\n"
   ]
  },
  {
   "cell_type": "markdown",
   "id": "7bd31764",
   "metadata": {},
   "source": [
    "## 4) Visualizations (ROAS trend & CTR by creative type)"
   ]
  },
  {
   "cell_type": "code",
   "execution_count": null,
   "id": "67f1044f",
   "metadata": {},
   "outputs": [],
   "source": [
    "\n",
    "import matplotlib.pyplot as plt\n",
    "# Create reports folder\n",
    "OUT_DIR = \"/mnt/data/reports\"\n",
    "os.makedirs(OUT_DIR, exist_ok=True)\n",
    "\n",
    "# ROAS over time (daily mean)\n",
    "if 'date' in df.columns and 'roas' in df.columns:\n",
    "    roas_daily = df.groupby('date')['roas'].mean().dropna()\n",
    "    plt.figure(figsize=(8,3.5))\n",
    "    plt.plot(roas_daily.index, roas_daily.values)\n",
    "    plt.title('Daily mean ROAS')\n",
    "    plt.xlabel('Date')\n",
    "    plt.ylabel('ROAS')\n",
    "    plt.tight_layout()\n",
    "    plt.savefig(os.path.join(OUT_DIR,'roas_daily.png'))\n",
    "    plt.show()\n",
    "else:\n",
    "    print('roas or date column missing; skipping ROAS trend plot.')\n",
    "\n",
    "# CTR by creative type bar chart\n",
    "if 'creative_type' in df.columns and 'ctr' in df.columns:\n",
    "    ctr_by_type = df.groupby('creative_type')['ctr'].mean().sort_values(ascending=False)\n",
    "    plt.figure(figsize=(6,3.5))\n",
    "    plt.bar(ctr_by_type.index.astype(str), ctr_by_type.values)\n",
    "    plt.title('Mean CTR by creative_type')\n",
    "    plt.xlabel('creative_type')\n",
    "    plt.ylabel('CTR')\n",
    "    plt.xticks(rotation=45, ha='right')\n",
    "    plt.tight_layout()\n",
    "    plt.savefig(os.path.join(OUT_DIR,'ctr_by_creative_type.png'))\n",
    "    plt.show()\n",
    "else:\n",
    "    print('creative_type or ctr column missing; skipping CTR by creative_type plot.')\n"
   ]
  },
  {
   "cell_type": "markdown",
   "id": "3cfc4f76",
   "metadata": {},
   "source": [
    "## 5) Generate Insights (rule-based)"
   ]
  },
  {
   "cell_type": "code",
   "execution_count": null,
   "id": "8c3017f3",
   "metadata": {},
   "outputs": [],
   "source": [
    "\n",
    "import json\n",
    "insights = []\n",
    "\n",
    "# 1) ROAS trend check\n",
    "if 'date' in df.columns and 'roas' in df.columns:\n",
    "    roas_daily = df.groupby('date')['roas'].mean().dropna()\n",
    "    if len(roas_daily) >= 2:\n",
    "        avg_daily_change = (roas_daily.diff().mean())\n",
    "        hypothesis = 'ROAS has decreased over time' if avg_daily_change < 0 else 'ROAS is stable/increasing'\n",
    "        insights.append({\n",
    "            'hypothesis': hypothesis,\n",
    "            'evidence': {\n",
    "                'avg_daily_roas_change': round(float(avg_daily_change),4),\n",
    "                'period_start': str(roas_daily.index.min().date()),\n",
    "                'period_end': str(roas_daily.index.max().date())\n",
    "            },\n",
    "            'confidence': 0.8 if abs(avg_daily_change) > 0.01 else 0.6\n",
    "        })\n",
    "\n",
    "# 2) CTR by creative type\n",
    "if 'creative_type' in df.columns and 'ctr' in df.columns:\n",
    "    ctr_by_type = df.groupby('creative_type')['ctr'].mean().round(4).to_dict()\n",
    "    insights.append({\n",
    "        'hypothesis': 'CTR varies by creative_type',\n",
    "        'evidence': ctr_by_type,\n",
    "        'confidence': 0.9\n",
    "    })\n",
    "\n",
    "# 3) Low-CTR campaigns (bottom 5 by mean ctr)\n",
    "if 'campaign_name' in df.columns and 'ctr' in df.columns:\n",
    "    low_campaigns = df.groupby('campaign_name')['ctr'].mean().sort_values().head(5).round(4).to_dict()\n",
    "    insights.append({\n",
    "        'hypothesis': 'Top low-CTR campaigns identified',\n",
    "        'evidence': low_campaigns,\n",
    "        'confidence': 0.85\n",
    "    })\n",
    "\n",
    "# 4) Country-level ROAS\n",
    "if 'country' in df.columns and 'roas' in df.columns:\n",
    "    country_roas = df.groupby('country')['roas'].mean().round(4).to_dict()\n",
    "    top_country = max(country_roas, key=country_roas.get) if country_roas else None\n",
    "    insights.append({\n",
    "        'hypothesis': 'Country-level ROAS',\n",
    "        'evidence': {\n",
    "            'country_roas': country_roas,\n",
    "            'top_country': top_country\n",
    "        },\n",
    "        'confidence': 0.75\n",
    "    })\n",
    "\n",
    "# Save insights\n",
    "insights_path = os.path.join(OUT_DIR,'insights.json')\n",
    "with open(insights_path,'w') as f:\n",
    "    json.dump(insights, f, indent=2)\n",
    "\n",
    "print('Insights written to', insights_path)\n",
    "insights\n"
   ]
  },
  {
   "cell_type": "markdown",
   "id": "ebe1e68d",
   "metadata": {},
   "source": [
    "## 6) Validate Insights"
   ]
  },
  {
   "cell_type": "code",
   "execution_count": null,
   "id": "d8bdcc47",
   "metadata": {},
   "outputs": [],
   "source": [
    "\n",
    "# Simple validation: mark accepted if confidence >= 0.7\n",
    "validated = []\n",
    "for i in insights:\n",
    "    i['status'] = 'accepted' if i.get('confidence',0) >= 0.7 else 'needs_review'\n",
    "    validated.append(i)\n",
    "\n",
    "# Save validated insights as well\n",
    "validated_path = os.path.join(OUT_DIR,'insights_validated.json')\n",
    "with open(validated_path,'w') as f:\n",
    "    json.dump(validated, f, indent=2)\n",
    "\n",
    "print('Validated insights saved to', validated_path)\n",
    "validated\n"
   ]
  },
  {
   "cell_type": "markdown",
   "id": "e11bcbb2",
   "metadata": {},
   "source": [
    "## 7) Generate Creative Recommendations"
   ]
  },
  {
   "cell_type": "code",
   "execution_count": null,
   "id": "9a451eb6",
   "metadata": {},
   "outputs": [],
   "source": [
    "\n",
    "# Generate simple creatives (template-based) for low-CTR campaigns\n",
    "creatives = []\n",
    "low_campaigns = []\n",
    "for ins in insights:\n",
    "    if ins.get('hypothesis','').lower().startswith('top low-ctr') or 'low-ctr' in ins.get('hypothesis','').lower() or 'low-ctr' in str(ins.get('evidence','')).lower():\n",
    "        # evidence is a dict of campaigns:ctr\n",
    "        ev = ins.get('evidence',{})\n",
    "        if isinstance(ev, dict):\n",
    "            low_campaigns = list(ev.keys())\n",
    "\n",
    "# If not found above, compute explicitly\n",
    "if not low_campaigns and 'campaign_name' in df.columns and 'ctr' in df.columns:\n",
    "    low_campaigns = df.groupby('campaign_name')['ctr'].mean().sort_values().head(3).index.tolist()\n",
    "\n",
    "for c in low_campaigns:\n",
    "    creatives.append({\n",
    "        'campaign': c,\n",
    "        'headline': f'{c} — Try shorter headline and clearer CTA',\n",
    "        'description': 'Use product benefit first, add urgency (e.g., \"Limited stock\"), and test one visual variation.'\n",
    "    })\n",
    "\n",
    "# General creatives\n",
    "creatives.append({\n",
    "    'campaign': 'global',\n",
    "    'headline': 'Soft, breathable comfort — Shop now',\n",
    "    'description': 'Lead with comfort and product material; show close-up of fabric.'\n",
    "})\n",
    "\n",
    "# Save creatives\n",
    "creatives_path = os.path.join(OUT_DIR,'creatives.json')\n",
    "with open(creatives_path,'w') as f:\n",
    "    json.dump(creatives, f, indent=2)\n",
    "\n",
    "print('Creatives saved to', creatives_path)\n",
    "creatives[:6]\n"
   ]
  },
  {
   "cell_type": "markdown",
   "id": "05ffaf1b",
   "metadata": {},
   "source": [
    "## 8) Compose final `report.md`"
   ]
  },
  {
   "cell_type": "code",
   "execution_count": null,
   "id": "4a35f20d",
   "metadata": {},
   "outputs": [],
   "source": [
    "\n",
    "# Build a simple markdown report summarizing results\n",
    "report_file = os.path.join(OUT_DIR,'report.md')\n",
    "with open(report_file,'w') as f:\n",
    "    f.write('# Kasparro - Facebook Ads Analysis Report\\n\\n')\n",
    "    f.write('## Summary\\n\\n')\n",
    "    f.write(f'- Rows: {df.shape[0]}\\n')\n",
    "    f.write(f'- Columns: {len(df.columns)}\\n')\n",
    "    if \"date\" in df.columns:\n",
    "        f.write(f'- Date range: {str(df[\"date\"].min().date())} to {str(df[\"date\"].max().date())}\\n')\n",
    "    f.write('\\n## Key Insights\\n')\n",
    "    for v in validated:\n",
    "        f.write(f'- {v[\"hypothesis\"]} (confidence: {v[\"confidence\"]})\\n')\n",
    "        f.write(f'  - Evidence: {v[\"evidence\"]}\\n')\n",
    "    f.write('\\n## Creative Recommendations\\n')\n",
    "    for c in creatives:\n",
    "        f.write(f'- {c[\"campaign\"]}: {c[\"headline\"]} — {c[\"description\"]}\\n')\n",
    "    f.write('\\n## How to reproduce\\n')\n",
    "    f.write('Run the cells in this notebook and inspect the files in `/mnt/data/reports/`\\n')\n",
    "print('Report written to', report_file)\n",
    "report_file\n"
   ]
  },
  {
   "cell_type": "markdown",
   "id": "21ef2efe",
   "metadata": {},
   "source": [
    "## 9) Outputs"
   ]
  },
  {
   "cell_type": "code",
   "execution_count": null,
   "id": "84bdb4bc",
   "metadata": {},
   "outputs": [],
   "source": [
    "\n",
    "# List produced files\n",
    "import glob\n",
    "for p in glob.glob(os.path.join(OUT_DIR,'*')):\n",
    "    print('-', p.split('/')[-1])\n",
    "print('\\nAll done. Please check the /mnt/data/reports/ folder for outputs and images.\\n')\n"
   ]
  },
  {
   "cell_type": "markdown",
   "id": "c66954d3",
   "metadata": {},
   "source": [
    "## Submission checklist\n",
    "\n",
    "1. Rename repository to `kasparro-agentic-fb-analyst-amali-akshaya`.\n",
    "2. Add this notebook and the `reports/` folder to the repo.\n",
    "3. Ensure `reports/insights.json`, `reports/creatives.json`, and `reports/report.md` exist.\n",
    "4. Commit at least 3 commits, create a `v1.0` release tag, and submit the public GitHub link.\n",
    "\n",
    "Good luck!"
   ]
  }
 ],
 "metadata": {
  "kernelspec": {
   "display_name": "Python 3",
   "name": "python3"
  },
  "language_info": {
   "name": "python"
  }
 },
 "nbformat": 4,
 "nbformat_minor": 5
}
